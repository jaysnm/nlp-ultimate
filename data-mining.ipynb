{
 "cells": [
  {
   "cell_type": "markdown",
   "metadata": {},
   "source": [
    "# This notebook covers  \n",
    "1. Operations with strings\n",
    "2. Pattern matching with regular expressions\n",
    "3. Web scrapping (requests, urllib, Beautiful Soup)\n",
    "4. Data Serialization (simplejson and pickle)\n",
    "5. Input/Output (file-systems and database systems)"
   ]
  },
  {
   "cell_type": "markdown",
   "metadata": {},
   "source": [
    "## 1. [Operations with Strings](https://docs.python.org/3/library/string.html)   \n",
    "\n",
    "A string is a sequence of characters. \n",
    "All the string methods always return new values and do not change or manipulate the original string.  \n"
   ]
  },
  {
   "cell_type": "code",
   "execution_count": null,
   "metadata": {},
   "outputs": [],
   "source": [
    "text=\"\"\"\n",
    "A string is a sequence of characters. \n",
    "All the string Methods always return NEW values and do not change or manipulate the original string.\n",
    "\"\"\"\n",
    "word='characters'\n",
    "\n",
    "print(word.center(50,'.'))\n",
    "print(\"Occurences of word 'string' in the text : {}\".format(text.count('string')))\n",
    "print(\"First instance (index) of word 'string' in the text: {}\".format(text.find('string')))\n",
    "print('text swapped cases: {}'.format(text.swapcase()))\n",
    "print('Capitalize every first letter of words in text: {}'.format(text.title()))\n",
    "print('***... Sentence ..$%\\n'.strip('*.%$'))\n",
    "print(\"another sentence\\n\".zfill(50))\n",
    "print('***... Sentence ..$%'+' another sentence\\n')\n",
    "print(text[text.index('string',15):text.find('the',text.index('string',15))])"
   ]
  },
  {
   "cell_type": "markdown",
   "metadata": {},
   "source": [
    "#### other string methods include: \n",
    "- capitalize( ) - capitalizes only the first character of a string.  \n",
    "- upper() - capitalizes all the letters of the string.  \n",
    "- split() - returns a list of words in a string where default separator is any whitespace.  \n",
    "- startswith() - returns True if the string starts with the specified value; otherwise, it returns False.  \n",
    "- endswith() - returns True if the string endswith the specified value, else it returns False.  \n",
    "- ljust() - returns a left-justified version of the given string using a specified character, whitespace being default.   \n",
    "- rjust() - aligns the string to the right.  \n",
    "- strip() - returns a copy of the string with the leading and trailing characters removed. Default character to be removed is whitespace.  \n",
    "- zfill() - adds zeros(0) at the beginning of the string. The length of the returned string depends on the width provided.  "
   ]
  },
  {
   "cell_type": "markdown",
   "metadata": {},
   "source": [
    "## 2. Pattern matching with [regular expressions](https://docs.python.org/3/library/re.html)  \n",
    "\n",
    "A regular expression is a special sequence of characters that helps you match or find other strings or sets of strings, using a specialized syntax held in a pattern.  \n",
    "There are various characters, which would have special meaning when they are used in regular expression. To avoid any confusion while dealing with regular expressions, we would use Raw Strings as **r'expression'.**"
   ]
  },
  {
   "cell_type": "code",
   "execution_count": null,
   "metadata": {},
   "outputs": [],
   "source": [
    "import re\n",
    "\n",
    "line = \"Cats are smarter than dogs\"\n",
    "\n",
    "matchObj = re.match( r'(.*) are (.*?) .*', line, re.M|re.I)\n",
    "\n",
    "if matchObj:\n",
    "   print (\"matchObj.group() : \", matchObj.group())\n",
    "   print (\"matchObj.group(1) : \", matchObj.group(1))\n",
    "   print (\"matchObj.group(2) : \", matchObj.group(2))\n",
    "else:\n",
    "   print (\"No match!!\")\n"
   ]
  },
  {
   "cell_type": "code",
   "execution_count": null,
   "metadata": {},
   "outputs": [],
   "source": [
    "searchObj = re.search( r'(.*) are (.*?) .*', line, re.M|re.I)\n",
    "\n",
    "if searchObj:\n",
    "   print (\"searchObj.group() : \", searchObj.group())\n",
    "   print (\"searchObj.group(1) : \", searchObj.group(1))\n",
    "   print (\"searchObj.group(2) : \", searchObj.group(2))\n",
    "else:\n",
    "   print (\"Nothing found!!\")"
   ]
  },
  {
   "cell_type": "code",
   "execution_count": null,
   "metadata": {},
   "outputs": [],
   "source": [
    "matchObj = re.match( r'dogs', line, re.M|re.I)\n",
    "if matchObj:\n",
    "   print (\"match --> matchObj.group() : \", matchObj.group())\n",
    "else:\n",
    "   print (\"No match!!\")\n",
    "\n",
    "searchObj = re.search( r'dogs', line, re.M|re.I)\n",
    "if searchObj:\n",
    "   print (\"search --> searchObj.group() : \", searchObj.group())\n",
    "else:\n",
    "   print (\"Nothing found!!\")"
   ]
  },
  {
   "cell_type": "code",
   "execution_count": null,
   "metadata": {},
   "outputs": [],
   "source": [
    "#Search and Replace\n",
    "phone = \"2004-959-559 # This is Phone Number\"\n",
    "\n",
    "# Delete Python-style comments\n",
    "num = re.sub(r'#.*$', \"\", phone)\n",
    "print (\"Phone Num : \", num)\n",
    "\n",
    "# Remove anything other than digits\n",
    "num = re.sub(r'\\D', \"\", phone)    \n",
    "print (\"Phone Num : \", num)"
   ]
  },
  {
   "cell_type": "markdown",
   "metadata": {},
   "source": [
    "## 3. Web Scrapping (Data Mining)\n",
    "### Using requests module  \n"
   ]
  },
  {
   "cell_type": "code",
   "execution_count": null,
   "metadata": {},
   "outputs": [],
   "source": [
    "https://api.github.com/repos/psf/requestsr = requests.get('https://api.github.com/repos/psf/requests')"
   ]
  },
  {
   "cell_type": "code",
   "execution_count": null,
   "metadata": {},
   "outputs": [],
   "source": [
    "r.json()"
   ]
  },
  {
   "cell_type": "code",
   "execution_count": null,
   "metadata": {},
   "outputs": [],
   "source": [
    "r.headers"
   ]
  },
  {
   "cell_type": "markdown",
   "metadata": {},
   "source": [
    "## 4. Data Serialization   \n",
    "\n",
    "### [simplejson](https://simplejson.readthedocs.io/en/latest/)   \n",
    "\n",
    "simplejson is a simple, fast, complete, correct and extensible [JSON](http://json.org/) encoder and decoder. \n",
    "> The encoder can be specialized to provide serialization in any kind of situation, without any special support by the objects to be serialized (somewhat like pickle). This is best done with the default kwarg to dumps.  \n",
    "The decoder can handle incoming JSON strings of any specified encoding (UTF-8 by default).  \n",
    "\n"
   ]
  },
  {
   "cell_type": "code",
   "execution_count": null,
   "metadata": {},
   "outputs": [],
   "source": [
    "import simplejson as json\n",
    "\n",
    "data={'3': 5, '1': 7,'fruits':['passion', 'strawberry', 'mangoe','plum']}\n",
    "\n",
    "print(json.dumps(data, sort_keys=True, indent=4 * ' '))\n",
    "\n",
    "with open('json_data.json','w') as json_in:\n",
    "    json.dump(data,json_in)\n",
    "    \n",
    "with open('json_data.json','r') as json_out:\n",
    "    json_data=json.load(json_out)\n",
    "    \n",
    "print('JSON data: {}'.format(json_data))"
   ]
  },
  {
   "cell_type": "markdown",
   "metadata": {},
   "source": [
    "### [pickle](https://docs.python.org/3/library/pickle.html)   \n",
    "\n",
    "Pickling (serialization with pickle) is the act of translating python data objects into a format that can be transferred from RAM to disk. pickled Python objects can be easily unpickled back to their original form (deserialisation).  \n",
    "Although JSON format is human-readable, language-independent, and faster than pickle, only a limited subset of Python built-in types can be represented by JSON. With Pickle, we can easily serialize a very large spectrum of Python types, and, importantly, custom classes. This means we don't need to create a custom schema (like we do for JSON) and write error-prone serializers and parsers. All of the heavy liftings is done for you with Pickle.  \n",
    "\n",
    "#### What can be Pickled and Unpickled\n",
    "- All native datatypes supported by Python (booleans, None, integers, floats, complex numbers, strings, bytes, byte arrays)\n",
    "- Dictionaries, sets, lists, and tuples - as long as they contain pickleable objects\n",
    "- Functions and classes that are defined at the top level of a module  \n",
    "\n",
    "> It is important to noter that pickling is not a language-independent serialization method, therefore your pickled data can only be unpickled using Python. Moreover, it's important to make sure that objects are pickled using the same version of Python that is going to be used to unpickle them. Mixing Python versions, in this case, can cause many problems.  \n",
    "Additionally, functions are pickled by their name references, and not by their value. The resulting pickle does not contain information on the function's code or attributes. Therefore, you have to make sure that the environment where the function is unpickled is able to import the function. In other words, if we pickle a function and then unpickle it in an environment where it's either not defined or not imported, an exception will be raised.  \n",
    "#### It is also very important to note that pickled objects can be used in malevolent ways. For instance, unpickling data from an untrusted source can result in the execution of a malicious piece of code."
   ]
  },
  {
   "cell_type": "code",
   "execution_count": null,
   "metadata": {},
   "outputs": [],
   "source": [
    "#pickling (serializing)\n",
    "\n",
    "import pickle\n",
    "\n",
    "fruits = ['passion', 'strawberry', 'mangoe','plum']\n",
    "\n",
    "with open('fruits_pickle.pkl', 'wb') as pickle_out:\n",
    "    pickle.dump(fruits, pickle_out)"
   ]
  },
  {
   "cell_type": "code",
   "execution_count": null,
   "metadata": {},
   "outputs": [],
   "source": [
    "#unpickling (deserialization)\n",
    "\n",
    "with open('fruits_pickle.pkl', 'rb') as pickle_in:\n",
    "    unpickled_data = pickle.load(pickle_in)\n",
    "\n",
    "print(unpickled_data)"
   ]
  },
  {
   "cell_type": "code",
   "execution_count": null,
   "metadata": {
    "scrolled": true
   },
   "outputs": [],
   "source": [
    "#Pickling and Unpickling Custom Objects\n",
    "\n",
    "class NeuralNetwork():\n",
    "    def __init__(self):\n",
    "        self.activated = False\n",
    "    def activate(self):\n",
    "        self.activated = True\n",
    "    def set_traing_data(self,data):\n",
    "        self.traing_data=data\n",
    "    \n",
    "\n",
    "model = NeuralNetwork()\n",
    "model.activate()\n",
    "model.traing_data=unpickled_data\n",
    "\n",
    "with open('object_pickle', 'wb') as pickle_out:\n",
    "    pickle.dump(model, pickle_out)\n",
    "\n",
    "with open('object_pickle', 'rb') as pickle_in:\n",
    "    unpickled_object = pickle.load(pickle_in)\n",
    "\n",
    "print('Activated: {} \\nTraining Data: {}'.format(unpickled_object.activated,unpickled_object.traing_data))"
   ]
  },
  {
   "cell_type": "markdown",
   "metadata": {},
   "source": [
    "**Remember, that we can only unpickle the object in an environment where the class NeuralNetwork is either defined or imported. If we create a new script and try to unpickle the object without importing the NeuralNetwork class, we'll get an \"AttributeError\".**"
   ]
  },
  {
   "cell_type": "markdown",
   "metadata": {},
   "source": [
    "## 5. Input and Output (IO)  \n",
    "\n",
    "### load from and save to file systems  \n"
   ]
  },
  {
   "cell_type": "markdown",
   "metadata": {},
   "source": [
    "### IO operations using database systems  "
   ]
  }
 ],
 "metadata": {
  "kernelspec": {
   "display_name": "Python 3",
   "language": "python",
   "name": "python3"
  },
  "language_info": {
   "codemirror_mode": {
    "name": "ipython",
    "version": 3
   },
   "file_extension": ".py",
   "mimetype": "text/x-python",
   "name": "python",
   "nbconvert_exporter": "python",
   "pygments_lexer": "ipython3",
   "version": "3.6.8"
  }
 },
 "nbformat": 4,
 "nbformat_minor": 2
}
