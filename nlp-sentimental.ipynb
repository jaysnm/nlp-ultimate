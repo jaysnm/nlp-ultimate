{
 "cells": [
  {
   "cell_type": "markdown",
   "metadata": {},
   "source": [
    "### Data\n",
    "[Sentiment labelled sentences](https://archive.ics.uci.edu/ml/machine-learning-databases/00331/sentiment%20labelled%20sentences.zip)"
   ]
  },
  {
   "cell_type": "code",
   "execution_count": 1,
   "metadata": {},
   "outputs": [],
   "source": [
    "#Load and preprocess data\n",
    "\n",
    "import pandas as pd\n",
    "\n",
    "data_files={\n",
    "     'amazon':'sentiment-labels/amazon_cells_labelled.txt',\n",
    "     'yelp':'sentiment-labels/yelp_labelled.txt',\n",
    "     'imdb':'sentiment-labels/imdb_labelled.txt',\n",
    "}\n",
    "\n",
    "df_list=[]\n",
    "for key, value in data_files.items():\n",
    "    df=pd.read_csv(value,names=['sentence','label'],sep='\\t')\n",
    "    df['source']=key\n",
    "    df_list.append(df)\n",
    "df=pd.concat(df_list)"
   ]
  },
  {
   "cell_type": "code",
   "execution_count": 2,
   "metadata": {},
   "outputs": [
    {
     "data": {
      "text/plain": [
       "{'love': 3, 'coding': 0, 'with': 5, 'money': 4, 'hate': 2, 'gossips': 1}"
      ]
     },
     "execution_count": 2,
     "metadata": {},
     "output_type": "execute_result"
    }
   ],
   "source": [
    "# word vectorization, generating feature vector, each dimension can be a numeric or categorical feature\n",
    "sentence=['I love coding with money','I hate gossips']\n",
    "\n",
    "from sklearn.feature_extraction.text import CountVectorizer\n",
    "\n",
    "vectorizer=CountVectorizer(min_df=0,lowercase=False)\n",
    "vectorizer.fit(sentence)\n",
    "vectorizer.vocabulary_"
   ]
  },
  {
   "cell_type": "code",
   "execution_count": 4,
   "metadata": {},
   "outputs": [
    {
     "data": {
      "text/plain": [
       "array([[1, 0, 0, 1, 1, 1],\n",
       "       [0, 1, 1, 0, 0, 0]])"
      ]
     },
     "execution_count": 4,
     "metadata": {},
     "output_type": "execute_result"
    }
   ],
   "source": [
    "# transform feature vector, encoder\n",
    "\n",
    "vectorizer.transform(sentence).toarray()"
   ]
  },
  {
   "cell_type": "code",
   "execution_count": 14,
   "metadata": {},
   "outputs": [],
   "source": [
    "from sklearn.model_selection import train_test_split\n",
    "\n",
    "df_imdb=df[df['source']=='yelp']\n",
    "sentences=df_imdb['sentence'].values\n",
    "labels=df_imdb['label'].values\n",
    "sentence_train,sentence_test,label_train,label_test=train_test_split(sentences,labels,test_size=0.25,random_state=1000)\n"
   ]
  },
  {
   "cell_type": "code",
   "execution_count": 15,
   "metadata": {},
   "outputs": [],
   "source": [
    "from sklearn.feature_extraction.text import CountVectorizer\n",
    "vectorizer=CountVectorizer()\n",
    "vectorizer.fit(sentence_train)\n",
    "x_train=vectorizer.transform(sentence_train)\n",
    "x_test=vectorizer.transform(sentence_test)"
   ]
  },
  {
   "cell_type": "code",
   "execution_count": null,
   "metadata": {},
   "outputs": [],
   "source": [
    "from sklearn.linear_model import LogisticRegression\n",
    "\n",
    "classifier=LogisticRegression()\n",
    "classifier.fit(x_train,label_train)\n",
    "score=classifier.score(x_test,label_test)\n",
    "'Accuracy {}'.format(score)"
   ]
  },
  {
   "cell_type": "code",
   "execution_count": null,
   "metadata": {},
   "outputs": [],
   "source": [
    "for source in df['source'].unique():\n",
    "    df_source=df[df['source']==source]\n",
    "    df_sentences=df_source['sentence'].values\n",
    "    df_labels=df_source['label'].values\n",
    "    sentence_train,sentence_test,label_train,label_test=train_test_split(df_sentences,df_labels,test_size=0.25,random_state=1000)\n",
    "    vectorizer=CountVectorizer()\n",
    "    vectorizer.fit(sentence_train)\n",
    "    x_train=vectorizer.transform(sentence_train)\n",
    "    x_test=vectorizer.transform(sentence_test)\n",
    "    classifier=LogisticRegression()\n",
    "    classifier.fit(x_train,label_train)\n",
    "    score=classifier.score(x_test,label_test)\n",
    "    print('{} training accuracy score {}'.format(source,score))"
   ]
  },
  {
   "cell_type": "code",
   "execution_count": 5,
   "metadata": {},
   "outputs": [
    {
     "name": "stderr",
     "output_type": "stream",
     "text": [
      "Using TensorFlow backend.\n"
     ]
    }
   ],
   "source": [
    "from keras.models import Sequential\n",
    "from keras.layers import Dense"
   ]
  },
  {
   "cell_type": "code",
   "execution_count": 23,
   "metadata": {},
   "outputs": [
    {
     "name": "stdout",
     "output_type": "stream",
     "text": [
      "Model: \"sequential_6\"\n",
      "_________________________________________________________________\n",
      "Layer (type)                 Output Shape              Param #   \n",
      "=================================================================\n",
      "dense_11 (Dense)             (None, 10)                17150     \n",
      "_________________________________________________________________\n",
      "dense_12 (Dense)             (None, 1)                 11        \n",
      "=================================================================\n",
      "Total params: 17,161\n",
      "Trainable params: 17,161\n",
      "Non-trainable params: 0\n",
      "_________________________________________________________________\n"
     ]
    }
   ],
   "source": [
    "model=Sequential()\n",
    "model.add(Dense(10,input_dim=x_train.shape[1],activation='relu'))\n",
    "model.add(Dense(1,activation='sigmoid'))\n",
    "model.compile(loss='binary_crossentropy',optimizer='adam',metrics=['accuracy','mae'])\n",
    "model.summary()"
   ]
  },
  {
   "cell_type": "code",
   "execution_count": 24,
   "metadata": {},
   "outputs": [
    {
     "name": "stdout",
     "output_type": "stream",
     "text": [
      "Train on 750 samples, validate on 250 samples\n",
      "Epoch 1/70\n",
      "750/750 [==============================] - 0s 327us/step - loss: 0.6823 - accuracy: 0.6120 - mae: 0.4941 - val_loss: 0.6730 - val_accuracy: 0.6680 - val_mae: 0.4893\n",
      "Epoch 2/70\n",
      "750/750 [==============================] - 0s 214us/step - loss: 0.6335 - accuracy: 0.8093 - mae: 0.4677 - val_loss: 0.6361 - val_accuracy: 0.7280 - val_mae: 0.4679\n",
      "Epoch 3/70\n",
      "750/750 [==============================] - 2s 3ms/step - loss: 0.5474 - accuracy: 0.8760 - mae: 0.4165 - val_loss: 0.5868 - val_accuracy: 0.7840 - val_mae: 0.4354\n",
      "Epoch 4/70\n",
      "750/750 [==============================] - 0s 216us/step - loss: 0.4434 - accuracy: 0.9173 - mae: 0.3487 - val_loss: 0.5358 - val_accuracy: 0.7800 - val_mae: 0.3977\n",
      "Epoch 5/70\n",
      "750/750 [==============================] - 0s 233us/step - loss: 0.3509 - accuracy: 0.9360 - mae: 0.2828 - val_loss: 0.5026 - val_accuracy: 0.7920 - val_mae: 0.3668\n",
      "Epoch 6/70\n",
      "750/750 [==============================] - 0s 220us/step - loss: 0.2779 - accuracy: 0.9560 - mae: 0.2284 - val_loss: 0.4717 - val_accuracy: 0.7800 - val_mae: 0.3401\n",
      "Epoch 7/70\n",
      "750/750 [==============================] - 0s 218us/step - loss: 0.2232 - accuracy: 0.9693 - mae: 0.1866 - val_loss: 0.4534 - val_accuracy: 0.8000 - val_mae: 0.3196\n",
      "Epoch 8/70\n",
      "750/750 [==============================] - 0s 255us/step - loss: 0.1820 - accuracy: 0.9787 - mae: 0.1539 - val_loss: 0.4400 - val_accuracy: 0.8000 - val_mae: 0.3033\n",
      "Epoch 9/70\n",
      "750/750 [==============================] - 0s 320us/step - loss: 0.1509 - accuracy: 0.9813 - mae: 0.1289 - val_loss: 0.4310 - val_accuracy: 0.8040 - val_mae: 0.2897\n",
      "Epoch 10/70\n",
      "750/750 [==============================] - 0s 301us/step - loss: 0.1259 - accuracy: 0.9867 - mae: 0.1086 - val_loss: 0.4203 - val_accuracy: 0.8040 - val_mae: 0.2797\n",
      "Epoch 11/70\n",
      "750/750 [==============================] - 0s 318us/step - loss: 0.1068 - accuracy: 0.9907 - mae: 0.0931 - val_loss: 0.4166 - val_accuracy: 0.7880 - val_mae: 0.2714\n",
      "Epoch 12/70\n",
      "750/750 [==============================] - 0s 274us/step - loss: 0.0913 - accuracy: 0.9920 - mae: 0.0800 - val_loss: 0.4123 - val_accuracy: 0.7920 - val_mae: 0.2640\n",
      "Epoch 13/70\n",
      "750/750 [==============================] - 0s 229us/step - loss: 0.0788 - accuracy: 0.9933 - mae: 0.0695 - val_loss: 0.4093 - val_accuracy: 0.7960 - val_mae: 0.2578\n",
      "Epoch 14/70\n",
      "750/750 [==============================] - 0s 230us/step - loss: 0.0689 - accuracy: 0.9933 - mae: 0.0612 - val_loss: 0.4087 - val_accuracy: 0.7960 - val_mae: 0.2522\n",
      "Epoch 15/70\n",
      "750/750 [==============================] - 0s 231us/step - loss: 0.0604 - accuracy: 0.9947 - mae: 0.0539 - val_loss: 0.4091 - val_accuracy: 0.8000 - val_mae: 0.2478\n",
      "Epoch 16/70\n",
      "750/750 [==============================] - 0s 226us/step - loss: 0.0533 - accuracy: 0.9960 - mae: 0.0478 - val_loss: 0.4103 - val_accuracy: 0.8040 - val_mae: 0.2443\n",
      "Epoch 17/70\n",
      "750/750 [==============================] - 0s 226us/step - loss: 0.0474 - accuracy: 0.9960 - mae: 0.0427 - val_loss: 0.4117 - val_accuracy: 0.8120 - val_mae: 0.2406\n",
      "Epoch 18/70\n",
      "750/750 [==============================] - 0s 255us/step - loss: 0.0423 - accuracy: 0.9960 - mae: 0.0383 - val_loss: 0.4145 - val_accuracy: 0.8040 - val_mae: 0.2377\n",
      "Epoch 19/70\n",
      "750/750 [==============================] - 0s 229us/step - loss: 0.0380 - accuracy: 0.9960 - mae: 0.0346 - val_loss: 0.4168 - val_accuracy: 0.8040 - val_mae: 0.2349\n",
      "Epoch 20/70\n",
      "750/750 [==============================] - 0s 264us/step - loss: 0.0341 - accuracy: 0.9960 - mae: 0.0312 - val_loss: 0.4171 - val_accuracy: 0.8080 - val_mae: 0.2324\n",
      "Epoch 21/70\n",
      "750/750 [==============================] - 0s 264us/step - loss: 0.0308 - accuracy: 0.9973 - mae: 0.0283 - val_loss: 0.4219 - val_accuracy: 0.8000 - val_mae: 0.2303\n",
      "Epoch 22/70\n",
      "750/750 [==============================] - 0s 319us/step - loss: 0.0279 - accuracy: 0.9973 - mae: 0.0257 - val_loss: 0.4237 - val_accuracy: 0.8000 - val_mae: 0.2285\n",
      "Epoch 23/70\n",
      "750/750 [==============================] - 0s 287us/step - loss: 0.0254 - accuracy: 0.9973 - mae: 0.0235 - val_loss: 0.4273 - val_accuracy: 0.8000 - val_mae: 0.2267\n",
      "Epoch 24/70\n",
      "750/750 [==============================] - 0s 230us/step - loss: 0.0232 - accuracy: 0.9987 - mae: 0.0215 - val_loss: 0.4311 - val_accuracy: 0.8000 - val_mae: 0.2250\n",
      "Epoch 25/70\n",
      "750/750 [==============================] - 0s 286us/step - loss: 0.0212 - accuracy: 0.9987 - mae: 0.0196 - val_loss: 0.4346 - val_accuracy: 0.8040 - val_mae: 0.2245\n",
      "Epoch 26/70\n",
      "750/750 [==============================] - 0s 339us/step - loss: 0.0194 - accuracy: 0.9987 - mae: 0.0181 - val_loss: 0.4390 - val_accuracy: 0.8080 - val_mae: 0.2231\n",
      "Epoch 27/70\n",
      "750/750 [==============================] - 0s 338us/step - loss: 0.0179 - accuracy: 0.9987 - mae: 0.0167 - val_loss: 0.4419 - val_accuracy: 0.8120 - val_mae: 0.2218\n",
      "Epoch 28/70\n",
      "750/750 [==============================] - 0s 295us/step - loss: 0.0164 - accuracy: 1.0000 - mae: 0.0154 - val_loss: 0.4453 - val_accuracy: 0.8080 - val_mae: 0.2205\n",
      "Epoch 29/70\n",
      "750/750 [==============================] - 0s 312us/step - loss: 0.0151 - accuracy: 1.0000 - mae: 0.0142 - val_loss: 0.4506 - val_accuracy: 0.8080 - val_mae: 0.2198\n",
      "Epoch 30/70\n",
      "750/750 [==============================] - 0s 231us/step - loss: 0.0140 - accuracy: 1.0000 - mae: 0.0132 - val_loss: 0.4538 - val_accuracy: 0.8080 - val_mae: 0.2189\n",
      "Epoch 31/70\n",
      "750/750 [==============================] - 0s 225us/step - loss: 0.0130 - accuracy: 1.0000 - mae: 0.0123 - val_loss: 0.4584 - val_accuracy: 0.8040 - val_mae: 0.2181\n",
      "Epoch 32/70\n",
      "750/750 [==============================] - 0s 233us/step - loss: 0.0121 - accuracy: 1.0000 - mae: 0.0114 - val_loss: 0.4635 - val_accuracy: 0.8080 - val_mae: 0.2175\n",
      "Epoch 33/70\n",
      "750/750 [==============================] - 0s 218us/step - loss: 0.0112 - accuracy: 1.0000 - mae: 0.0107 - val_loss: 0.4680 - val_accuracy: 0.8080 - val_mae: 0.2169\n",
      "Epoch 34/70\n",
      "750/750 [==============================] - 0s 263us/step - loss: 0.0104 - accuracy: 1.0000 - mae: 0.0099 - val_loss: 0.4711 - val_accuracy: 0.8080 - val_mae: 0.2160\n",
      "Epoch 35/70\n",
      "750/750 [==============================] - 0s 282us/step - loss: 0.0097 - accuracy: 1.0000 - mae: 0.0092 - val_loss: 0.4753 - val_accuracy: 0.8080 - val_mae: 0.2158\n",
      "Epoch 36/70\n",
      "750/750 [==============================] - 0s 262us/step - loss: 0.0091 - accuracy: 1.0000 - mae: 0.0087 - val_loss: 0.4803 - val_accuracy: 0.8080 - val_mae: 0.2149\n",
      "Epoch 37/70\n",
      "750/750 [==============================] - 0s 239us/step - loss: 0.0084 - accuracy: 1.0000 - mae: 0.0081 - val_loss: 0.4843 - val_accuracy: 0.8080 - val_mae: 0.2143\n",
      "Epoch 38/70\n",
      "750/750 [==============================] - 0s 220us/step - loss: 0.0079 - accuracy: 1.0000 - mae: 0.0076 - val_loss: 0.4880 - val_accuracy: 0.8040 - val_mae: 0.2143\n",
      "Epoch 39/70\n",
      "750/750 [==============================] - 0s 220us/step - loss: 0.0074 - accuracy: 1.0000 - mae: 0.0071 - val_loss: 0.4918 - val_accuracy: 0.8080 - val_mae: 0.2136\n",
      "Epoch 40/70\n",
      "750/750 [==============================] - 0s 201us/step - loss: 0.0070 - accuracy: 1.0000 - mae: 0.0067 - val_loss: 0.4981 - val_accuracy: 0.8080 - val_mae: 0.2132\n",
      "Epoch 41/70\n",
      "750/750 [==============================] - 0s 223us/step - loss: 0.0065 - accuracy: 1.0000 - mae: 0.0063 - val_loss: 0.5020 - val_accuracy: 0.8080 - val_mae: 0.2130\n",
      "Epoch 42/70\n",
      "750/750 [==============================] - 0s 199us/step - loss: 0.0061 - accuracy: 1.0000 - mae: 0.0059 - val_loss: 0.5064 - val_accuracy: 0.8120 - val_mae: 0.2127\n",
      "Epoch 43/70\n",
      "750/750 [==============================] - 0s 199us/step - loss: 0.0058 - accuracy: 1.0000 - mae: 0.0056 - val_loss: 0.5108 - val_accuracy: 0.8120 - val_mae: 0.2124\n",
      "Epoch 44/70\n",
      "750/750 [==============================] - 0s 211us/step - loss: 0.0054 - accuracy: 1.0000 - mae: 0.0052 - val_loss: 0.5152 - val_accuracy: 0.8080 - val_mae: 0.2124\n",
      "Epoch 45/70\n",
      "750/750 [==============================] - 0s 221us/step - loss: 0.0051 - accuracy: 1.0000 - mae: 0.0049 - val_loss: 0.5197 - val_accuracy: 0.8120 - val_mae: 0.2119\n",
      "Epoch 46/70\n",
      "750/750 [==============================] - 0s 216us/step - loss: 0.0047 - accuracy: 1.0000 - mae: 0.0046 - val_loss: 0.5234 - val_accuracy: 0.8120 - val_mae: 0.2115\n",
      "Epoch 47/70\n",
      "750/750 [==============================] - 0s 221us/step - loss: 0.0045 - accuracy: 1.0000 - mae: 0.0044 - val_loss: 0.5293 - val_accuracy: 0.8160 - val_mae: 0.2114\n",
      "Epoch 48/70\n",
      "750/750 [==============================] - 0s 210us/step - loss: 0.0043 - accuracy: 1.0000 - mae: 0.0042 - val_loss: 0.5329 - val_accuracy: 0.8120 - val_mae: 0.2114\n",
      "Epoch 49/70\n",
      "750/750 [==============================] - 0s 199us/step - loss: 0.0040 - accuracy: 1.0000 - mae: 0.0039 - val_loss: 0.5375 - val_accuracy: 0.8120 - val_mae: 0.2111\n",
      "Epoch 50/70\n",
      "750/750 [==============================] - 0s 204us/step - loss: 0.0038 - accuracy: 1.0000 - mae: 0.0037 - val_loss: 0.5411 - val_accuracy: 0.8120 - val_mae: 0.2111\n",
      "Epoch 51/70\n",
      "750/750 [==============================] - 0s 195us/step - loss: 0.0035 - accuracy: 1.0000 - mae: 0.0035 - val_loss: 0.5453 - val_accuracy: 0.8120 - val_mae: 0.2107\n",
      "Epoch 52/70\n",
      "750/750 [==============================] - 0s 200us/step - loss: 0.0034 - accuracy: 1.0000 - mae: 0.0033 - val_loss: 0.5488 - val_accuracy: 0.8120 - val_mae: 0.2106\n",
      "Epoch 53/70\n",
      "750/750 [==============================] - 0s 200us/step - loss: 0.0032 - accuracy: 1.0000 - mae: 0.0031 - val_loss: 0.5545 - val_accuracy: 0.8120 - val_mae: 0.2105\n",
      "Epoch 54/70\n",
      "750/750 [==============================] - 0s 202us/step - loss: 0.0030 - accuracy: 1.0000 - mae: 0.0030 - val_loss: 0.5586 - val_accuracy: 0.8120 - val_mae: 0.2105\n",
      "Epoch 55/70\n",
      "750/750 [==============================] - 0s 204us/step - loss: 0.0028 - accuracy: 1.0000 - mae: 0.0028 - val_loss: 0.5635 - val_accuracy: 0.8080 - val_mae: 0.2104\n",
      "Epoch 56/70\n",
      "750/750 [==============================] - 0s 212us/step - loss: 0.0027 - accuracy: 1.0000 - mae: 0.0027 - val_loss: 0.5675 - val_accuracy: 0.8080 - val_mae: 0.2102\n",
      "Epoch 57/70\n",
      "750/750 [==============================] - 0s 203us/step - loss: 0.0026 - accuracy: 1.0000 - mae: 0.0025 - val_loss: 0.5725 - val_accuracy: 0.8080 - val_mae: 0.2103\n",
      "Epoch 58/70\n",
      "750/750 [==============================] - 0s 196us/step - loss: 0.0024 - accuracy: 1.0000 - mae: 0.0024 - val_loss: 0.5761 - val_accuracy: 0.8040 - val_mae: 0.2101\n",
      "Epoch 59/70\n",
      "750/750 [==============================] - 0s 200us/step - loss: 0.0023 - accuracy: 1.0000 - mae: 0.0023 - val_loss: 0.5802 - val_accuracy: 0.8040 - val_mae: 0.2103\n",
      "Epoch 60/70\n",
      "750/750 [==============================] - 0s 199us/step - loss: 0.0022 - accuracy: 1.0000 - mae: 0.0021 - val_loss: 0.5851 - val_accuracy: 0.8040 - val_mae: 0.2099\n",
      "Epoch 61/70\n",
      "750/750 [==============================] - 0s 202us/step - loss: 0.0021 - accuracy: 1.0000 - mae: 0.0020 - val_loss: 0.5879 - val_accuracy: 0.8040 - val_mae: 0.2098\n",
      "Epoch 62/70\n",
      "750/750 [==============================] - 0s 198us/step - loss: 0.0020 - accuracy: 1.0000 - mae: 0.0019 - val_loss: 0.5942 - val_accuracy: 0.8040 - val_mae: 0.2100\n",
      "Epoch 63/70\n",
      "750/750 [==============================] - 0s 201us/step - loss: 0.0019 - accuracy: 1.0000 - mae: 0.0018 - val_loss: 0.5979 - val_accuracy: 0.8040 - val_mae: 0.2098\n",
      "Epoch 64/70\n",
      "750/750 [==============================] - 0s 217us/step - loss: 0.0018 - accuracy: 1.0000 - mae: 0.0017 - val_loss: 0.6021 - val_accuracy: 0.8040 - val_mae: 0.2100\n",
      "Epoch 65/70\n",
      "750/750 [==============================] - 0s 194us/step - loss: 0.0017 - accuracy: 1.0000 - mae: 0.0017 - val_loss: 0.6074 - val_accuracy: 0.8040 - val_mae: 0.2099\n",
      "Epoch 66/70\n",
      "750/750 [==============================] - 0s 188us/step - loss: 0.0016 - accuracy: 1.0000 - mae: 0.0016 - val_loss: 0.6130 - val_accuracy: 0.8040 - val_mae: 0.2101\n",
      "Epoch 67/70\n",
      "750/750 [==============================] - 0s 189us/step - loss: 0.0015 - accuracy: 1.0000 - mae: 0.0015 - val_loss: 0.6165 - val_accuracy: 0.8040 - val_mae: 0.2099\n",
      "Epoch 68/70\n",
      "750/750 [==============================] - 0s 193us/step - loss: 0.0014 - accuracy: 1.0000 - mae: 0.0014 - val_loss: 0.6218 - val_accuracy: 0.8000 - val_mae: 0.2099\n",
      "Epoch 69/70\n",
      "750/750 [==============================] - 0s 191us/step - loss: 0.0014 - accuracy: 1.0000 - mae: 0.0014 - val_loss: 0.6269 - val_accuracy: 0.8000 - val_mae: 0.2099\n",
      "Epoch 70/70\n",
      "750/750 [==============================] - 0s 192us/step - loss: 0.0013 - accuracy: 1.0000 - mae: 0.0013 - val_loss: 0.6302 - val_accuracy: 0.8000 - val_mae: 0.2097\n"
     ]
    }
   ],
   "source": [
    "history = model.fit(x_train, label_train,epochs=70,verbose=True, validation_data=(x_test, label_test), batch_size=10)"
   ]
  },
  {
   "cell_type": "code",
   "execution_count": 25,
   "metadata": {},
   "outputs": [
    {
     "name": "stdout",
     "output_type": "stream",
     "text": [
      "750/750 [==============================] - 0s 64us/step\n",
      "Training Loss: 0.0012, Accuracy: 1.0000, MAE: 0.0012\n",
      "250/250 [==============================] - 0s 70us/step\n",
      "Testing Loss: 0.6302, Accuracy: 0.8000, MAE: 0.2097\n"
     ]
    }
   ],
   "source": [
    "loss,accuracy,mae = model.evaluate(x_train, label_train, verbose=True)\n",
    "print(\"Training Loss: {:.4f}, Accuracy: {:.4f}, MAE: {:.4f}\".format(loss,accuracy,mae))\n",
    "loss,accuracy,mae = model.evaluate(x_test, label_test, verbose=True)\n",
    "print(\"Testing Loss: {:.4f}, Accuracy: {:.4f}, MAE: {:.4f}\".format(loss,accuracy,mae))"
   ]
  },
  {
   "cell_type": "code",
   "execution_count": 41,
   "metadata": {},
   "outputs": [],
   "source": [
    "import matplotlib.pyplot as plt\n",
    "\n",
    "plt.style.use('ggplot')\n",
    "\n",
    "def plot_history(history):\n",
    "    acc = history.history['accuracy']\n",
    "    val_acc = history.history['val_accuracy']\n",
    "    loss = history.history['loss']\n",
    "    mae=history.history['mae']\n",
    "    val_loss = history.history['val_loss']\n",
    "    x = range(1, len(acc) + 1)\n",
    "\n",
    "    plt.figure(figsize=(12, 5))\n",
    "    plt.subplot(1, 2, 1)\n",
    "    plt.plot(x, acc, 'b', label='Training acc')\n",
    "    plt.plot(x, val_acc, 'r', label='Validation acc')\n",
    "    plt.plot(x, mae, 'g', label='MAE')\n",
    "    plt.title('Training and validation accuracy')\n",
    "    plt.legend()\n",
    "    plt.subplot(1, 2, 2)\n",
    "    plt.plot(x, loss, 'b', label='Training loss')\n",
    "    plt.plot(x, val_loss, 'r', label='Validation loss')\n",
    "    plt.plot(x, mae, 'g', label='MAE')\n",
    "    plt.title('Training and validation loss')\n",
    "    plt.legend()\n",
    "    "
   ]
  },
  {
   "cell_type": "code",
   "execution_count": 42,
   "metadata": {},
   "outputs": [
    {
     "data": {
      "image/png": "[encoded data removed]",
      "text/plain": [
       "<Figure size 864x360 with 2 Axes>"
      ]
     },
     "metadata": {},
     "output_type": "display_data"
    }
   ],
   "source": [
    "plot_history(history)"
   ]
  }
 ],
 "metadata": {
  "kernelspec": {
   "display_name": "Python 3",
   "language": "python",
   "name": "python3"
  },
  "language_info": {
   "codemirror_mode": {
    "name": "ipython",
    "version": 3
   },
   "file_extension": ".py",
   "mimetype": "text/x-python",
   "name": "python",
   "nbconvert_exporter": "python",
   "pygments_lexer": "ipython3",
   "version": "3.7.4"
  }
 },
 "nbformat": 4,
 "nbformat_minor": 2
}
